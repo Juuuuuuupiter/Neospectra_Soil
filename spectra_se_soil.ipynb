{
 "cells": [
  {
   "cell_type": "code",
   "execution_count": 7,
   "id": "da6fea87",
   "metadata": {},
   "outputs": [],
   "source": [
    "import os\n",
    "import pandas as pd\n",
    "import numpy as np\n",
    "from scipy.signal import savgol_filter\n",
    "from sklearn.ensemble import IsolationForest"
   ]
  },
  {
   "cell_type": "code",
   "execution_count": 8,
   "id": "427af93d",
   "metadata": {},
   "outputs": [],
   "source": [
    "#read the file directly from github repository\n",
    "url = \"https://raw.githubusercontent.com/Juuuuuuupiter/Neospectra_Soil/main/SE_AI4SH_2024_DS.csv\"\n",
    "csv_file_path = url\n",
    "df = pd.read_csv(url)"
   ]
  },
  {
   "cell_type": "code",
   "execution_count": 3,
   "id": "03198a2e",
   "metadata": {},
   "outputs": [],
   "source": [
    "#Set Directory; the folder where your csv and other data are, and you need to save data later\n",
    "##os.chdir('C:/Users/hsfa0259/Desktop/Neospectra')"
   ]
  },
  {
   "cell_type": "code",
   "execution_count": 9,
   "id": "79ed7f58",
   "metadata": {},
   "outputs": [],
   "source": [
    "# Load CSV file for spectra data\n",
    "##csv_file_path = \"C:/Users/hsfa0259/Desktop/Neospectra/SE_AI4SH_2024_DS.csv\"  # location to the site data\n",
    "df_site_data = pd.read_csv(csv_file_path, index_col=0) # assuming the first column is index column"
   ]
  },
  {
   "cell_type": "markdown",
   "id": "8a31eddc",
   "metadata": {},
   "source": [
    "Preprocessing"
   ]
  },
  {
   "cell_type": "code",
   "execution_count": 10,
   "id": "98ccbc4f",
   "metadata": {},
   "outputs": [],
   "source": [
    "# === Step 1: Filtering using Savitzky-Golay ===\n",
    "def apply_savitzky_golay(df, window_length=5, polyorder=2, mode='nearest'):\n",
    "    \"\"\"\n",
    "    Apply Savitzky-Golay filter to smooth spectral data.\n",
    "    \n",
    "    :param df: DataFrame containing spectral data (wavelengths as columns)\n",
    "    :param window_length: Window size for the filter (must be odd)\n",
    "    :param polyorder: Polynomial order for smoothing\n",
    "    :return: Smoothed DataFrame\n",
    "    \"\"\"\n",
    "     # Ensure window_length is valid\n",
    "    if df.shape[0] < window_length:\n",
    "        raise ValueError(f\"window_length ({window_length}) cannot be greater than the number of rows ({df.shape[0]})\")\n",
    "\n",
    "    # Apply Savitzky-Golay filter row-wise\n",
    "    filtered_array = np.apply_along_axis(\n",
    "        lambda row: savgol_filter(row, window_length, polyorder, mode=\"nearest\"),\n",
    "        axis=1,\n",
    "        arr=df\n",
    "    )\n",
    "\n",
    "    # Convert back to DataFrame\n",
    "    return pd.DataFrame(filtered_array, columns=df.columns, index=df.index)\n",
    "\n",
    "# === Step 2: Scatter Correction using Standard Normal Variate (SNV) ===\n",
    "def snv(input_data):\n",
    "    \"\"\"\n",
    "    Applies Standard Normal Variate (SNV) to each row in the dataset.\n",
    "\n",
    "    Parameters:\n",
    "    - input_data (pd.DataFrame or np.ndarray): Spectral data.\n",
    "\n",
    "    Returns:\n",
    "    - pd.DataFrame: SNV-transformed data with the same shape as input.\n",
    "    \"\"\"\n",
    "\n",
    "    # Ensure input is a NumPy array\n",
    "    if isinstance(input_data, pd.DataFrame):\n",
    "        input_array = input_data.to_numpy()\n",
    "    else:\n",
    "        input_array = input_data\n",
    "\n",
    "    # Check for non-numeric data\n",
    "    if not np.issubdtype(input_array.dtype, np.number):\n",
    "        raise ValueError(\"SNV function received non-numeric data.\")\n",
    "\n",
    "    # Compute SNV (normalize each row)\n",
    "    mean = np.mean(input_array, axis=1, keepdims=True)\n",
    "    std_dev = np.std(input_array, axis=1, keepdims=True)\n",
    "    snv_array = (input_array - mean) / std_dev\n",
    "\n",
    "    # Convert back to DataFrame if original was a DataFrame\n",
    "    if isinstance(input_data, pd.DataFrame):\n",
    "        return pd.DataFrame(snv_array, columns=input_data.columns, index=input_data.index)\n",
    "    return snv_array\n",
    "\n",
    "\n",
    "# === Step 3: Compute First Derivatives ===\n",
    "def compute_first_derivative(df):\n",
    "    \"\"\"\n",
    "    Compute the first derivative of spectral data.\n",
    "    \n",
    "    :param df: DataFrame containing spectral data\n",
    "    :return: First derivative DataFrame\n",
    "    \"\"\"\n",
    "    if isinstance(df, np.ndarray):  # Convert to DataFrame if it became an array\n",
    "        df = pd.DataFrame(df)\n",
    "\n",
    "    # Get the derivatives\n",
    "    derivative = df.diff(axis=1, periods=1)\n",
    "\n",
    "    # Drop first column since diff creates NaN\n",
    "    derivative.drop(axis=1, columns=derivative.columns[0], inplace=True)\n",
    "\n",
    "    return derivative\n",
    "\n",
    "# === Step 4: Remove Outliers using Isolation Forest ===\n",
    "def remove_outliers(df, contamination=0.1):\n",
    "    \"\"\"\n",
    "    Remove outliers using Isolation Forest.\n",
    "    \n",
    "    :param df: DataFrame containing spectral data\n",
    "    :param contamination: Proportion of data expected to be outliers\n",
    "    :return: Cleaned DataFrame\n",
    "    \"\"\"\n",
    "    model = IsolationForest(contamination=contamination, random_state=42)\n",
    "    labels = model.fit_predict(df)\n",
    "    return df[labels == 1]  # Keep only inliers"
   ]
  },
  {
   "cell_type": "code",
   "execution_count": 11,
   "id": "ee049af7",
   "metadata": {},
   "outputs": [
    {
     "name": "stdout",
     "output_type": "stream",
     "text": [
      "                                005-organic_0-20  003-organic_20-50  \\\n",
      "Sample_Name                                                           \n",
      "spectral_data.2464.42955642491         -1.574845           0.428866   \n",
      "spectral_data.2456.18732125368         -1.579307           0.435496   \n",
      "spectral_data.2448.00003428936         -1.585060           0.440972   \n",
      "spectral_data.2439.86714787568         -1.592774           0.443793   \n",
      "spectral_data.2431.78812161009         -1.602282           0.443086   \n",
      "\n",
      "                                004-organic_20-50  003-organic_0-20  \\\n",
      "Sample_Name                                                           \n",
      "spectral_data.2464.42955642491           1.293802          0.817535   \n",
      "spectral_data.2456.18732125368           1.304512          0.813768   \n",
      "spectral_data.2448.00003428936           1.315789          0.810024   \n",
      "spectral_data.2439.86714787568           1.327332          0.805465   \n",
      "spectral_data.2431.78812161009           1.338846          0.799623   \n",
      "\n",
      "                                004-organic_0-20   91_0-20  002-sand_0-20  \\\n",
      "Sample_Name                                                                 \n",
      "spectral_data.2464.42955642491         -1.088809 -0.188097      -1.340629   \n",
      "spectral_data.2456.18732125368         -1.094824 -0.189953      -1.341927   \n",
      "spectral_data.2448.00003428936         -1.100708 -0.191742      -1.342940   \n",
      "spectral_data.2439.86714787568         -1.105127 -0.192807      -1.343157   \n",
      "spectral_data.2431.78812161009         -1.106989 -0.192962      -1.342238   \n",
      "\n",
      "                                 95_0-20   51_0-20  005-organic_20-50  ...  \\\n",
      "Sample_Name                                                            ...   \n",
      "spectral_data.2464.42955642491  1.769820  0.992463           1.318822  ...   \n",
      "spectral_data.2456.18732125368  1.764135  0.993171           1.320195  ...   \n",
      "spectral_data.2448.00003428936  1.758065  0.993898           1.321662  ...   \n",
      "spectral_data.2439.86714787568  1.751335  0.994181           1.324102  ...   \n",
      "spectral_data.2431.78812161009  1.743622  0.993494           1.328008  ...   \n",
      "\n",
      "                                24_20-50  60_0-20.1  002-sand_20-50   4_20-50  \\\n",
      "Sample_Name                                                                     \n",
      "spectral_data.2464.42955642491 -0.392421   0.231597       -0.902374 -0.346131   \n",
      "spectral_data.2456.18732125368 -0.397833   0.225541       -0.896513 -0.334703   \n",
      "spectral_data.2448.00003428936 -0.402278   0.219943       -0.890599 -0.323365   \n",
      "spectral_data.2439.86714787568 -0.405524   0.214980       -0.883737 -0.311326   \n",
      "spectral_data.2431.78812161009 -0.407845   0.210396       -0.875443 -0.297907   \n",
      "\n",
      "                                 5_20-50  72_20-50  99_20-50   20_0-20  \\\n",
      "Sample_Name                                                              \n",
      "spectral_data.2464.42955642491  0.159741  1.045273 -0.933516 -0.689631   \n",
      "spectral_data.2456.18732125368  0.145082  1.046813 -0.930655 -0.693205   \n",
      "spectral_data.2448.00003428936  0.131206  1.049394 -0.927203 -0.695742   \n",
      "spectral_data.2439.86714787568  0.118105  1.053292 -0.923469 -0.698739   \n",
      "spectral_data.2431.78812161009  0.105187  1.058195 -0.919775 -0.703911   \n",
      "\n",
      "                                 72_0-20   61_0-20  \n",
      "Sample_Name                                         \n",
      "spectral_data.2464.42955642491  0.843924  1.174724  \n",
      "spectral_data.2456.18732125368  0.828791  1.180927  \n",
      "spectral_data.2448.00003428936  0.815016  1.188049  \n",
      "spectral_data.2439.86714787568  0.801415  1.196137  \n",
      "spectral_data.2431.78812161009  0.785989  1.204553  \n",
      "\n",
      "[5 rows x 44 columns]\n"
     ]
    }
   ],
   "source": [
    "#you need to replace your dataframe with specified colomns here\n",
    "spectral_data_savitzky = apply_savitzky_golay(df_site_data) #specify where the csv file is located\n",
    "spectral_data_snv = snv(spectral_data_savitzky)\n",
    "spectral_data_first_derivative = compute_first_derivative(spectral_data_snv)\n",
    "spectral_data_cleaned = remove_outliers(spectral_data_first_derivative)\n",
    "print(spectral_data_cleaned.head())"
   ]
  },
  {
   "cell_type": "markdown",
   "id": "a4bbc15e",
   "metadata": {},
   "source": [
    "Change the column name from \"Sspectral_data.\" to numerical values."
   ]
  },
  {
   "cell_type": "code",
   "execution_count": null,
   "id": "b689d754",
   "metadata": {},
   "outputs": [
    {
     "name": "stdout",
     "output_type": "stream",
     "text": [
      "Index([2549.99998242594,    '39.34300767',    '31.71952036',     '29.7702316',\n",
      "          '43.69658502',    '38.32757311',    '40.55154678',    '34.29514547',\n",
      "          '35.29504614',    '30.50570266',    '52.20205336',    '39.74673061',\n",
      "          '46.92529331',    '40.63280261',    '43.19891225',    '43.77703176',\n",
      "          '47.56871482',    '40.91026164',    '39.70714915',    '40.29223959',\n",
      "          '32.25898032',    '51.11127074',    '46.82507034',    '41.99286082',\n",
      "          '28.38305364',     '41.8789543',    '38.52629608',    '38.34646048',\n",
      "          '50.72228745',    '38.70843707',    '44.49766667',    '43.68914646',\n",
      "          '41.38268462',    '42.74539009',    '43.40679039',    '41.45080676',\n",
      "          '45.96502734',    '38.85966625',     '43.8609827',    '34.74814456',\n",
      "          '37.53333875',    '45.50194928',    '38.99843445',    '33.38208211',\n",
      "          '43.62708244',    '44.31128724'],\n",
      "      dtype='object')\n"
     ]
    }
   ],
   "source": [
    "import re\n",
    "\n",
    "new_columns = []\n",
    "for col in df_site_data.iloc[0]:\n",
    "    if isinstance(col, str) and col.startswith(\"spectral_data.\"):\n",
    "        # Remove \"spectral_data.\" and convert to float\n",
    "        wavelength = float(re.sub(r\"^spectral_data\\.\", \"\", col))\n",
    "        new_columns.append(wavelength)\n",
    "    else:\n",
    "        new_columns.append(col)\n",
    "\n",
    "df_site_data.columns = new_columns\n",
    "print(df_site_data.columns)\n",
    "\n",
    "# Drop first row (now used as header)\n",
    "##df_site_data = df_site_data.drop(index=0).reset_index(drop=True)"
   ]
  },
  {
   "cell_type": "code",
   "execution_count": null,
   "id": "f7396110",
   "metadata": {},
   "outputs": [
    {
     "ename": "KeyError",
     "evalue": "'Sample_Name'",
     "output_type": "error",
     "traceback": [
      "\u001b[1;31m---------------------------------------------------------------------------\u001b[0m",
      "\u001b[1;31mKeyError\u001b[0m                                  Traceback (most recent call last)",
      "File \u001b[1;32mc:\\Users\\hsfa0259\\AppData\\Local\\anaconda3\\Lib\\site-packages\\pandas\\core\\indexes\\base.py:3805\u001b[0m, in \u001b[0;36mIndex.get_loc\u001b[1;34m(self, key)\u001b[0m\n\u001b[0;32m   3804\u001b[0m \u001b[38;5;28;01mtry\u001b[39;00m:\n\u001b[1;32m-> 3805\u001b[0m     \u001b[38;5;28;01mreturn\u001b[39;00m \u001b[38;5;28mself\u001b[39m\u001b[38;5;241m.\u001b[39m_engine\u001b[38;5;241m.\u001b[39mget_loc(casted_key)\n\u001b[0;32m   3806\u001b[0m \u001b[38;5;28;01mexcept\u001b[39;00m \u001b[38;5;167;01mKeyError\u001b[39;00m \u001b[38;5;28;01mas\u001b[39;00m err:\n",
      "File \u001b[1;32mindex.pyx:167\u001b[0m, in \u001b[0;36mpandas._libs.index.IndexEngine.get_loc\u001b[1;34m()\u001b[0m\n",
      "File \u001b[1;32mindex.pyx:196\u001b[0m, in \u001b[0;36mpandas._libs.index.IndexEngine.get_loc\u001b[1;34m()\u001b[0m\n",
      "File \u001b[1;32mpandas\\\\_libs\\\\hashtable_class_helper.pxi:7081\u001b[0m, in \u001b[0;36mpandas._libs.hashtable.PyObjectHashTable.get_item\u001b[1;34m()\u001b[0m\n",
      "File \u001b[1;32mpandas\\\\_libs\\\\hashtable_class_helper.pxi:7089\u001b[0m, in \u001b[0;36mpandas._libs.hashtable.PyObjectHashTable.get_item\u001b[1;34m()\u001b[0m\n",
      "\u001b[1;31mKeyError\u001b[0m: 'Sample_Name'",
      "\nThe above exception was the direct cause of the following exception:\n",
      "\u001b[1;31mKeyError\u001b[0m                                  Traceback (most recent call last)",
      "Cell \u001b[1;32mIn[28], line 12\u001b[0m\n\u001b[0;32m     10\u001b[0m \u001b[38;5;66;03m# Loop through each sample and plot its spectrum\u001b[39;00m\n\u001b[0;32m     11\u001b[0m \u001b[38;5;28;01mfor\u001b[39;00m i, row \u001b[38;5;129;01min\u001b[39;00m df_site_data\u001b[38;5;241m.\u001b[39miterrows():\n\u001b[1;32m---> 12\u001b[0m     plt\u001b[38;5;241m.\u001b[39mplot(wavelengths, row[\u001b[38;5;241m1\u001b[39m:], label\u001b[38;5;241m=\u001b[39mrow[\u001b[38;5;124m'\u001b[39m\u001b[38;5;124mSample_Name\u001b[39m\u001b[38;5;124m'\u001b[39m])\n\u001b[0;32m     14\u001b[0m plt\u001b[38;5;241m.\u001b[39mxlabel(\u001b[38;5;124m'\u001b[39m\u001b[38;5;124mWavelength (nm)\u001b[39m\u001b[38;5;124m'\u001b[39m)\n\u001b[0;32m     15\u001b[0m plt\u001b[38;5;241m.\u001b[39mylabel(\u001b[38;5;124m'\u001b[39m\u001b[38;5;124mReflectance\u001b[39m\u001b[38;5;124m'\u001b[39m)\n",
      "File \u001b[1;32mc:\\Users\\hsfa0259\\AppData\\Local\\anaconda3\\Lib\\site-packages\\pandas\\core\\series.py:1121\u001b[0m, in \u001b[0;36mSeries.__getitem__\u001b[1;34m(self, key)\u001b[0m\n\u001b[0;32m   1118\u001b[0m     \u001b[38;5;28;01mreturn\u001b[39;00m \u001b[38;5;28mself\u001b[39m\u001b[38;5;241m.\u001b[39m_values[key]\n\u001b[0;32m   1120\u001b[0m \u001b[38;5;28;01melif\u001b[39;00m key_is_scalar:\n\u001b[1;32m-> 1121\u001b[0m     \u001b[38;5;28;01mreturn\u001b[39;00m \u001b[38;5;28mself\u001b[39m\u001b[38;5;241m.\u001b[39m_get_value(key)\n\u001b[0;32m   1123\u001b[0m \u001b[38;5;66;03m# Convert generator to list before going through hashable part\u001b[39;00m\n\u001b[0;32m   1124\u001b[0m \u001b[38;5;66;03m# (We will iterate through the generator there to check for slices)\u001b[39;00m\n\u001b[0;32m   1125\u001b[0m \u001b[38;5;28;01mif\u001b[39;00m is_iterator(key):\n",
      "File \u001b[1;32mc:\\Users\\hsfa0259\\AppData\\Local\\anaconda3\\Lib\\site-packages\\pandas\\core\\series.py:1237\u001b[0m, in \u001b[0;36mSeries._get_value\u001b[1;34m(self, label, takeable)\u001b[0m\n\u001b[0;32m   1234\u001b[0m     \u001b[38;5;28;01mreturn\u001b[39;00m \u001b[38;5;28mself\u001b[39m\u001b[38;5;241m.\u001b[39m_values[label]\n\u001b[0;32m   1236\u001b[0m \u001b[38;5;66;03m# Similar to Index.get_value, but we do not fall back to positional\u001b[39;00m\n\u001b[1;32m-> 1237\u001b[0m loc \u001b[38;5;241m=\u001b[39m \u001b[38;5;28mself\u001b[39m\u001b[38;5;241m.\u001b[39mindex\u001b[38;5;241m.\u001b[39mget_loc(label)\n\u001b[0;32m   1239\u001b[0m \u001b[38;5;28;01mif\u001b[39;00m is_integer(loc):\n\u001b[0;32m   1240\u001b[0m     \u001b[38;5;28;01mreturn\u001b[39;00m \u001b[38;5;28mself\u001b[39m\u001b[38;5;241m.\u001b[39m_values[loc]\n",
      "File \u001b[1;32mc:\\Users\\hsfa0259\\AppData\\Local\\anaconda3\\Lib\\site-packages\\pandas\\core\\indexes\\base.py:3812\u001b[0m, in \u001b[0;36mIndex.get_loc\u001b[1;34m(self, key)\u001b[0m\n\u001b[0;32m   3807\u001b[0m     \u001b[38;5;28;01mif\u001b[39;00m \u001b[38;5;28misinstance\u001b[39m(casted_key, \u001b[38;5;28mslice\u001b[39m) \u001b[38;5;129;01mor\u001b[39;00m (\n\u001b[0;32m   3808\u001b[0m         \u001b[38;5;28misinstance\u001b[39m(casted_key, abc\u001b[38;5;241m.\u001b[39mIterable)\n\u001b[0;32m   3809\u001b[0m         \u001b[38;5;129;01mand\u001b[39;00m \u001b[38;5;28many\u001b[39m(\u001b[38;5;28misinstance\u001b[39m(x, \u001b[38;5;28mslice\u001b[39m) \u001b[38;5;28;01mfor\u001b[39;00m x \u001b[38;5;129;01min\u001b[39;00m casted_key)\n\u001b[0;32m   3810\u001b[0m     ):\n\u001b[0;32m   3811\u001b[0m         \u001b[38;5;28;01mraise\u001b[39;00m InvalidIndexError(key)\n\u001b[1;32m-> 3812\u001b[0m     \u001b[38;5;28;01mraise\u001b[39;00m \u001b[38;5;167;01mKeyError\u001b[39;00m(key) \u001b[38;5;28;01mfrom\u001b[39;00m \u001b[38;5;21;01merr\u001b[39;00m\n\u001b[0;32m   3813\u001b[0m \u001b[38;5;28;01mexcept\u001b[39;00m \u001b[38;5;167;01mTypeError\u001b[39;00m:\n\u001b[0;32m   3814\u001b[0m     \u001b[38;5;66;03m# If we have a listlike key, _check_indexing_error will raise\u001b[39;00m\n\u001b[0;32m   3815\u001b[0m     \u001b[38;5;66;03m#  InvalidIndexError. Otherwise we fall through and re-raise\u001b[39;00m\n\u001b[0;32m   3816\u001b[0m     \u001b[38;5;66;03m#  the TypeError.\u001b[39;00m\n\u001b[0;32m   3817\u001b[0m     \u001b[38;5;28mself\u001b[39m\u001b[38;5;241m.\u001b[39m_check_indexing_error(key)\n",
      "\u001b[1;31mKeyError\u001b[0m: 'Sample_Name'"
     ]
    },
    {
     "data": {
      "text/plain": [
       "<Figure size 1000x600 with 0 Axes>"
      ]
     },
     "metadata": {},
     "output_type": "display_data"
    }
   ],
   "source": []
  },
  {
   "cell_type": "markdown",
   "id": "f278bd04",
   "metadata": {},
   "source": [
    "Load soil property data"
   ]
  }
 ],
 "metadata": {
  "kernelspec": {
   "display_name": "base",
   "language": "python",
   "name": "python3"
  },
  "language_info": {
   "codemirror_mode": {
    "name": "ipython",
    "version": 3
   },
   "file_extension": ".py",
   "mimetype": "text/x-python",
   "name": "python",
   "nbconvert_exporter": "python",
   "pygments_lexer": "ipython3",
   "version": "3.12.7"
  }
 },
 "nbformat": 4,
 "nbformat_minor": 5
}
